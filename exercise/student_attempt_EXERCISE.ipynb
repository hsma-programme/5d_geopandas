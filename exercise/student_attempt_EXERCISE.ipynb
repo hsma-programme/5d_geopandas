{
 "cells": [
  {
   "cell_type": "markdown",
   "metadata": {},
   "source": [
    "# Exercise - GeoPandas\n",
    "\n",
    "Now that you've been shown how to use GeoPandas, it your turn to wrangle some data related to the North West of England.\n",
    "\n",
    "Working in your PSGs, use what you have just observed (and learned) to create your own custom map. In the cells below, there will be omissions (denoted with <span style=\"color:red\">******</span>) that need to be completed correctly to move on to the next step.\n",
    "\n",
    "Once completed, you should have a map that looks like the one below…"
   ]
  },
  {
   "cell_type": "markdown",
   "metadata": {},
   "source": [
    "<img src=\"../images/map_ex_example.jpg\" alt=\"ap\" width=\"450\"/>"
   ]
  },
  {
   "cell_type": "markdown",
   "metadata": {},
   "source": [
    "### Import modules\n",
    "\n",
    "This exercise will require certain libraries to be imported. Can you spot the omissions below?"
   ]
  },
  {
   "cell_type": "code",
   "execution_count": null,
   "metadata": {},
   "outputs": [],
   "source": [
    "# Replace the ** below and run the code\n",
    "import ** as ctx\n",
    "import **\n",
    "import matplotlib.pyplot as plt\n",
    "import ** as pd\n",
    "\n",
    "import shapely\n",
    "import warnings\n",
    "from shapely.errors import ShapelyDeprecationWarning\n",
    "warnings.filterwarnings(\"ignore\", category=ShapelyDeprecationWarning) "
   ]
  },
  {
   "cell_type": "markdown",
   "metadata": {},
   "source": [
    "### Load LSOA shape file\n",
    "\n",
    "Next we're going to load a zip file entitled `lsoa_dec_2011_eng_wales.zip`. This zip contains the shape files for LSOAs in England and Wales.\n",
    "\n",
    "The CRS for the shape file is EPSG:4326. Update the code below to load the geodataframe.\n",
    "\n",
    "[GeoPandas read_file documentation](https://geopandas.org/en/stable/docs/reference/api/geopandas.read_file.html)\n"
   ]
  },
  {
   "cell_type": "code",
   "execution_count": null,
   "metadata": {},
   "outputs": [],
   "source": [
    "# Replace the ** below and run the code\n",
    "filename = \"zip://../data/lsoa_dec_2011_eng_wales.zip\"\n",
    "# Note we are not defining the CRS below\n",
    "lsoa_gdf = **.read_file(**)"
   ]
  },
  {
   "cell_type": "markdown",
   "metadata": {},
   "source": [
    "Lets take a look a look at the first few rows of data the geodataframe."
   ]
  },
  {
   "cell_type": "code",
   "execution_count": null,
   "metadata": {},
   "outputs": [],
   "source": [
    "# Replace the ** below and run the code\n",
    "lsoa_gdf.**(3)"
   ]
  },
  {
   "cell_type": "markdown",
   "metadata": {},
   "source": [
    "Create a simple plot using the `plot()` method for the Geopandas DataFrame. \n",
    "\n",
    "Which object will be calling the `plot()` method on?"
   ]
  },
  {
   "cell_type": "code",
   "execution_count": null,
   "metadata": {},
   "outputs": [],
   "source": [
    "# Replace the ** below and run the code\n",
    "lsoa_gdf.**(figsize=(4,4));"
   ]
  },
  {
   "cell_type": "markdown",
   "metadata": {},
   "source": [
    "## Using Spatial Relationship methods to select lower super output areas\n",
    "\n",
    "First we'll need to import county boundary shape file, exactly as we did in the code along.\n",
    "\n",
    "Which method will be required to load the file?\n",
    "\n",
    "What epsg was used in the code along for this same file?"
   ]
  },
  {
   "cell_type": "code",
   "execution_count": null,
   "metadata": {},
   "outputs": [],
   "source": [
    "# Replace the ** below and run the code\n",
    "filename = \"zip://../data/Counties_and_Unitary_Authorities__December_2017\" + \\\n",
    "    \"__Boundaries_UK-shp.zip\"\n",
    "\n",
    "# Read file....\n",
    "counties_gdf = **.read_file(filename)\n",
    "\n",
    "# Manually set crs using `.set_crs()`\n",
    "counties_gdf = counties_gdf.**(epsg=27700)"
   ]
  },
  {
   "cell_type": "markdown",
   "metadata": {},
   "source": [
    "Lets take a look at the the data before visualising using the `plot()` method."
   ]
  },
  {
   "cell_type": "code",
   "execution_count": null,
   "metadata": {},
   "outputs": [],
   "source": [
    "counties_gdf.head()"
   ]
  },
  {
   "cell_type": "code",
   "execution_count": null,
   "metadata": {},
   "outputs": [],
   "source": [
    "# Replace the ** below and run the code\n",
    "# Plot the data\n",
    "counties_gdf.**(figsize=(4,4));"
   ]
  },
  {
   "cell_type": "markdown",
   "metadata": {},
   "source": [
    "Although not covered in the code along, it's a good idea to see how to identify which CRS a geodataframe is using; and if necessary change it on the fly!"
   ]
  },
  {
   "cell_type": "code",
   "execution_count": null,
   "metadata": {},
   "outputs": [],
   "source": [
    "# First lets use `.crs` on the lsoa_gdf\n",
    "# We can see this is EPSG:4326 /  WGS 84\n",
    "print(\"Details of 'lsoa_gdf' CRS below....\")\n",
    "lsoa_gdf.**"
   ]
  },
  {
   "cell_type": "code",
   "execution_count": null,
   "metadata": {},
   "outputs": [],
   "source": [
    "# Next lets use `.crs` on the counties_gdf\n",
    "# We can see this is EPSG:27700 /  British National Grid\n",
    "print(\"Details of 'counties_gdf' CRS below....\")\n",
    "counties_gdf.**"
   ]
  },
  {
   "cell_type": "markdown",
   "metadata": {},
   "source": [
    "Given these aren't the same, lets use the `.to_crs()` method to change the CRS of EPSG:4326."
   ]
  },
  {
   "cell_type": "code",
   "execution_count": null,
   "metadata": {},
   "outputs": [],
   "source": [
    "counties_gdf.**(epsg=4326, inplace=True)"
   ]
  },
  {
   "cell_type": "markdown",
   "metadata": {},
   "source": [
    "Now we'll use both `lambda` and `map` functions to identify six different areas within the Merseyside / North West area."
   ]
  },
  {
   "cell_type": "markdown",
   "metadata": {},
   "source": [
    "### Finding the North West/ Merseyside data\n",
    "\n",
    "Next we meed to identify rows that are included in the list below using the Pandas `map` lambda function.\n",
    "\n",
    "List of counties: Manchester, West Lancashire, Wirral, Blackpool, Liverpool, Sefton, Knowsley."
   ]
  },
  {
   "cell_type": "code",
   "execution_count": null,
   "metadata": {},
   "outputs": [],
   "source": [
    "# Replace the ** below and run the code\n",
    "mersey_nw = \\\n",
    "    counties_gdf['ctyua17nm'].**(\n",
    "        lambda x: x in ['Lancashire',  'Wirral', 'Blackpool',\n",
    "                        'Liverpool', 'Sefton', 'Knowsley'])"
   ]
  },
  {
   "cell_type": "markdown",
   "metadata": {},
   "source": [
    "The outputs (booleans) will then be mapped to a new column within the `counties_gdf`"
   ]
  },
  {
   "cell_type": "code",
   "execution_count": null,
   "metadata": {},
   "outputs": [],
   "source": [
    "# Replace the ** below and run the code\n",
    "counties_gdf['mersey_nw'] = mersey_nw"
   ]
  },
  {
   "cell_type": "markdown",
   "metadata": {},
   "source": [
    "Next, create a mask based on the new column (created above) containing True values..."
   ]
  },
  {
   "cell_type": "code",
   "execution_count": null,
   "metadata": {},
   "outputs": [],
   "source": [
    "# Replace the ** below and run the code\n",
    "mask = counties_gdf['mersey_nw'] == **"
   ]
  },
  {
   "cell_type": "markdown",
   "metadata": {},
   "source": [
    "... This mask will then be used to filter just the counties we're interested. This new varaible will be `mnw`."
   ]
  },
  {
   "cell_type": "code",
   "execution_count": null,
   "metadata": {},
   "outputs": [],
   "source": [
    "# Replace the ** below and run the code\n",
    "mnw = counties_gdf.**[mask]"
   ]
  },
  {
   "cell_type": "markdown",
   "metadata": {
    "tags": []
   },
   "source": [
    "Finally, plot the Mersey/ North West area."
   ]
  },
  {
   "cell_type": "code",
   "execution_count": null,
   "metadata": {},
   "outputs": [],
   "source": [
    "# Visualising the filtered area\n",
    "mnw.plot(figsize=(4,4));"
   ]
  },
  {
   "cell_type": "markdown",
   "metadata": {},
   "source": [
    "### Merging areas together\n",
    "\n",
    "The six individual counties will then be merged into a just one, using `dissolve`. This will be the `merged_gdf` variable.\n",
    "\n",
    "https://geopandas.org/aggregation_with_dissolve.html"
   ]
  },
  {
   "cell_type": "code",
   "execution_count": null,
   "metadata": {},
   "outputs": [],
   "source": [
    "# Replace the ** below and run the code\n",
    "merged_gdf = counties_gdf.**(by='mersey_nw')\n",
    "merged_gdf"
   ]
  },
  {
   "cell_type": "markdown",
   "metadata": {},
   "source": [
    "Now we select just the geometry Mersey North West (`mersey_nw`) row, This has an index value of 'True'.\n",
    "\n",
    "The filtered geometry will then be saved as a new variable, `mnw_geometry`."
   ]
  },
  {
   "cell_type": "code",
   "execution_count": null,
   "metadata": {},
   "outputs": [],
   "source": [
    "# Replace the ** below and run the code\n",
    "mnw_geometry = merged_gdf.loc[**].geometry"
   ]
  },
  {
   "cell_type": "markdown",
   "metadata": {},
   "source": [
    "Lets take a look at the shape of the filtered geometry."
   ]
  },
  {
   "cell_type": "code",
   "execution_count": null,
   "metadata": {},
   "outputs": [],
   "source": [
    "mnw_geometry"
   ]
  },
  {
   "cell_type": "markdown",
   "metadata": {},
   "source": [
    "### Spatial relationships\n",
    "\n",
    "To get all LSOA in Mersey/ North West  area we need to apply a test for `overlaps` or `within`. These will be used to create a `mask`"
   ]
  },
  {
   "cell_type": "code",
   "execution_count": null,
   "metadata": {},
   "outputs": [],
   "source": [
    "# Replace the ** below and run the code\n",
    "# Hint: Use `overlaps` and `within` \n",
    "mask = (lsoa_gdf.**(mnw_geometry)) | (lsoa_gdf.**(mnw_geometry))"
   ]
  },
  {
   "cell_type": "markdown",
   "metadata": {},
   "source": [
    "Create new Geopands DataFrame (`mersey_nw_lsoa`) by applying the above mask to the `lsoa_gdf` geodataframe. Once this is done, take a look af the first 5 rows."
   ]
  },
  {
   "cell_type": "code",
   "execution_count": null,
   "metadata": {},
   "outputs": [],
   "source": [
    "# Replace the ** below and run the code\n",
    "mersey_nw_lsoa = lsoa_gdf.loc[mask]\n",
    "mersey_nw_lsoa.**()"
   ]
  },
  {
   "cell_type": "markdown",
   "metadata": {},
   "source": [
    "Lets plot the filtered LSOAs"
   ]
  },
  {
   "cell_type": "code",
   "execution_count": null,
   "metadata": {},
   "outputs": [],
   "source": [
    "#  Replace the ** below and run the code\n",
    "mersey_nw_lsoa.**();"
   ]
  },
  {
   "cell_type": "markdown",
   "metadata": {},
   "source": [
    "### Loading point data (hospitals) and selecting those in the Merseyside / North West area\n",
    "\n",
    "Lets use the `read_file` method to load the CSV containing hospital location data then take a look at the first few rows."
   ]
  },
  {
   "cell_type": "code",
   "execution_count": null,
   "metadata": {},
   "outputs": [],
   "source": [
    "# Replace the ** below and run the code\n",
    "hospitals_gdf = geopandas.**('../data/hosp_107.csv')\n",
    "hospitals_gdf.head(3)"
   ]
  },
  {
   "cell_type": "markdown",
   "metadata": {},
   "source": [
    "Create a `geometry` field manually using the `.points_from_xy` method"
   ]
  },
  {
   "cell_type": "code",
   "execution_count": null,
   "metadata": {},
   "outputs": [],
   "source": [
    "# Replace the ** below and run the code\n",
    "hospitals_gdf.geometry = geopandas.**(\n",
    "        hospitals_gdf.long, hospitals_gdf.lat)"
   ]
  },
  {
   "cell_type": "markdown",
   "metadata": {},
   "source": [
    "Set CRS for geometry, using `epsg=4326` for lat/long then take a look at the first few rows. "
   ]
  },
  {
   "cell_type": "code",
   "execution_count": null,
   "metadata": {},
   "outputs": [],
   "source": [
    "# Replace the ** below and run the code\n",
    "hospitals_gdf = hospitals_gdf.set_crs(epsg=4326)\n",
    "hospitals_gdf.head(3)"
   ]
  },
  {
   "cell_type": "code",
   "execution_count": null,
   "metadata": {},
   "outputs": [],
   "source": [
    "hospitals_gdf.plot();"
   ]
  },
  {
   "cell_type": "markdown",
   "metadata": {},
   "source": [
    "Identify hospitals `within` the Mersey North West geometry zone we created earlier."
   ]
  },
  {
   "cell_type": "code",
   "execution_count": null,
   "metadata": {},
   "outputs": [],
   "source": [
    "mask = hospitals_gdf.**(mnw_geometry)\n",
    "mnw_hospitals = hospitals_gdf.loc[mask]\n",
    "mnw_hospitals"
   ]
  },
  {
   "cell_type": "markdown",
   "metadata": {},
   "source": [
    "### Bring in travel times to closest stroke unit/ hospital\n",
    "\n",
    "Import table of travel times from LSOA to closest stroke unit (using `read_csv`) and then take a look at the first few rows."
   ]
  },
  {
   "cell_type": "code",
   "execution_count": null,
   "metadata": {},
   "outputs": [],
   "source": [
    "# Replace the ** below and run the code\n",
    "travel_time = pd.**('../data/lsoa_107_ivt.csv')\n",
    "travel_time.head()"
   ]
  },
  {
   "cell_type": "markdown",
   "metadata": {},
   "source": [
    "Merge data so that we get the `time_to_thrombolysis_unit` column, then take a look."
   ]
  },
  {
   "cell_type": "code",
   "execution_count": null,
   "metadata": {},
   "outputs": [],
   "source": [
    "# Replace the ** below and run the code\n",
    "mersey_nw_lsoa = mersey_nw_lsoa.merge(\n",
    "    travel_time[['area', 'time_to_thrombolysis_unit']], left_on='lsoa11nm', right_on='area', how='left')\n",
    "\n",
    "mersey_nw_lsoa.**()"
   ]
  },
  {
   "cell_type": "markdown",
   "metadata": {},
   "source": [
    "## Mapping data with MatPlotLib\n",
    "\n",
    "\n",
    "Using MatPlotLib gives us more power than the GeoPandas DataFrame `plot` method."
   ]
  },
  {
   "cell_type": "code",
   "execution_count": null,
   "metadata": {},
   "outputs": [],
   "source": [
    "fig, ax = plt.subplots(figsize=(10, 10)) # Make max dimensions 10x10 inch\n",
    "mersey_nw_lsoa.plot(ax=ax, # Set which axes to use for plot (only one here)\n",
    "                 column='time_to_thrombolysis_unit', # Column to apply colour\n",
    "                 antialiased=False, # Avoids artifact boundry lines\n",
    "                 edgecolor='face', # Make LSOA boundry same colour as area\n",
    "                 vmin=0, # Manual scale min (remove to make automatic)\n",
    "                 vmax=70, # Manual scale max (remove to make automatic)\n",
    "                 cmap='inferno_r', # Colour map to use\n",
    "                 # Adjust size of colourmap key, and add label\n",
    "                 legend_kwds={'shrink':0.5, 'label':'Travel time (mins)'},\n",
    "                 # Set to display legend\n",
    "                 legend=True)\n",
    "ax.set_axis_off() # Turn of axis linea dn numbers\n",
    "plt.savefig('map_ex1.jpg', dpi=300) # Save figure\n",
    "**.show()"
   ]
  },
  {
   "cell_type": "markdown",
   "metadata": {},
   "source": [
    "Repeat, but display hospitals as an extra plot using `ax` as axis. We will add hospital name (just postcode here), and use contexity to add a base map."
   ]
  },
  {
   "cell_type": "markdown",
   "metadata": {},
   "source": [
    "When using base maps convert data to epsg:3857"
   ]
  },
  {
   "cell_type": "code",
   "execution_count": null,
   "metadata": {},
   "outputs": [],
   "source": [
    "# Replace the ** below and run the code\n",
    "mersey_nw_lsoa = mersey_nw_lsoa.to_crs(epsg=**) \n",
    "mnw_hospitals = mnw_hospitals.to_crs(epsg=**) "
   ]
  },
  {
   "cell_type": "code",
   "execution_count": null,
   "metadata": {},
   "outputs": [],
   "source": [
    "fig, ax = plt.subplots(figsize=(10, 10)) # Make max dimensions 10x10 inch\n",
    "# Plot travel times for each LSOA\n",
    "mersey_nw_lsoa.plot(ax=ax, # Set which axes to use for plot (only one here)\n",
    "        column='time_to_thrombolysis_unit', # Column to apply colour\n",
    "        # antialiasing loses transparency values\n",
    "        # antialiased=False, # Avoids artifact boundry lines\n",
    "        edgecolor='face', # Make LSOA boundry same colour as area\n",
    "        linewidth=0.0,# Use linewidth=0 to hide boarder lines\n",
    "        vmin=0, # Manual scale min (remove to make automatic)\n",
    "        vmax=70, # Manual scale max (remove to make automatic)\n",
    "        cmap='inferno_r', # Coloour map to use\n",
    "        # Adjust size of colourmap key, and add label\n",
    "        legend_kwds={'shrink':0.4, 'label':'Travel time (mins)'},\n",
    "        # Set to display legend\n",
    "        legend=True,\n",
    "        # Set transparancy (to help reveal basemap)\n",
    "        alpha = 0.70)\n",
    "\n",
    "# Plot location of hospitals\n",
    "mnw_hospitals.plot(ax=ax, edgecolor='k', facecolor='w', markersize=200, \n",
    "                  marker='*')\n",
    "# Add labels\n",
    "for x, y, label in zip(\n",
    "    mnw_hospitals.geometry.x, mnw_hospitals.geometry.y, mnw_hospitals.hospital):\n",
    "        ax.annotate(label, xy=(x, y), xytext=(8, 8), textcoords=\"offset points\",\n",
    "                    backgroundcolor=\"w\", fontsize=8)\n",
    "        \n",
    "# Add base map (note that we specifiy the same CRS as we are using)\n",
    "# Use manual zoom to adjust level of detail of base map\n",
    "ctx.add_basemap(ax, \n",
    "                source=ctx.providers.OpenStreetMap.Mapnik,zoom=10)\n",
    "    \n",
    "ax.set_axis_off() # Turn of axis line numbers\n",
    "ax.set_title('Travel time (minutes) to closest acute stroke unit')\n",
    "# Adjust for printing\n",
    "ax.margins(0)\n",
    "ax.apply_aspect()\n",
    "plt.subplots_adjust(left=0.01, right=1.0, bottom=0.0, top=1.0)\n",
    "# Save figure\n",
    "plt.savefig('map_ex2.jpg', dpi=300)\n",
    "plt.show()"
   ]
  }
 ],
 "metadata": {
  "kernelspec": {
   "display_name": "Python 3 (ipykernel)",
   "language": "python",
   "name": "python3"
  },
  "language_info": {
   "codemirror_mode": {
    "name": "ipython",
    "version": 3
   },
   "file_extension": ".py",
   "mimetype": "text/x-python",
   "name": "python",
   "nbconvert_exporter": "python",
   "pygments_lexer": "ipython3",
   "version": "3.8.11"
  }
 },
 "nbformat": 4,
 "nbformat_minor": 4
}
